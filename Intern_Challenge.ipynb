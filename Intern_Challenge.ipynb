{
  "nbformat": 4,
  "nbformat_minor": 0,
  "metadata": {
    "colab": {
      "name": "Intern Challenge.ipynb",
      "provenance": [],
      "mount_file_id": "1GkTgvvZqwPiZZNDdgXH4TbCq4_qos2zR",
      "authorship_tag": "ABX9TyPNreVb1lb7T2iFcXGs3NF1"
    },
    "kernelspec": {
      "name": "python3",
      "display_name": "Python 3"
    },
    "language_info": {
      "name": "python"
    }
  },
  "cells": [
    {
      "cell_type": "markdown",
      "source": [
        "# Question 1: \n",
        "\n",
        "Given some sample data, write a program to answer the following: [click here to access the required data set](https://docs.google.com/spreadsheets/d/16i38oonuX1y1g7C_UAmiK9GkY7cS-64DfiDMNiR41LM/edit#gid=0)\n",
        "\n",
        "<br>\n",
        "On Shopify, we have exactly 100 sneaker shops, and each of these shops sells only one model of shoe. We want to do some analysis of the average order value (AOV). When we look at orders data over a 30 day window, we naively calculate an AOV of $3145.13. Given that we know these shops are selling sneakers, a relatively affordable item, something seems wrong with our analysis. \n"
      ],
      "metadata": {
        "id": "RG00ZpcG2sDO"
      }
    },
    {
      "cell_type": "code",
      "execution_count": 4,
      "metadata": {
        "colab": {
          "base_uri": "https://localhost:8080/",
          "height": 833
        },
        "id": "QDF3lFF5wog6",
        "outputId": "cd45af35-2860-49dc-8ab7-f53ebd5c5079"
      },
      "outputs": [
        {
          "output_type": "execute_result",
          "data": {
            "text/plain": [
              "    order_id  shop_id  user_id  order_amount  total_items payment_method  \\\n",
              "0          1       53      746           224            2           cash   \n",
              "1          2       92      925            90            1           cash   \n",
              "2          3       44      861           144            1           cash   \n",
              "3          4       18      935           156            1    credit_card   \n",
              "4          5       18      883           156            1    credit_card   \n",
              "5          6       58      882           138            1    credit_card   \n",
              "6          7       87      915           149            1           cash   \n",
              "7          8       22      761           292            2           cash   \n",
              "8          9       64      914           266            2          debit   \n",
              "9         10       52      788           146            1    credit_card   \n",
              "10        11       66      848           322            2    credit_card   \n",
              "11        12       40      983           322            2          debit   \n",
              "12        13       54      799           266            2    credit_card   \n",
              "13        14      100      709           111            1           cash   \n",
              "14        15       87      849           447            3    credit_card   \n",
              "15        16       42      607        704000         2000    credit_card   \n",
              "16        17       17      731           176            1           cash   \n",
              "17        18       28      752           164            1    credit_card   \n",
              "18        19       83      761           258            2           cash   \n",
              "19        20       63      898           408            3    credit_card   \n",
              "20        21       66      987           322            2           cash   \n",
              "21        22       97      789           486            3    credit_card   \n",
              "22        23       88      985           704            4    credit_card   \n",
              "23        24       75      964           256            2    credit_card   \n",
              "24        25       73      917           495            3           cash   \n",
              "\n",
              "             created_at  \n",
              "0   2017-03-13 12:36:56  \n",
              "1   2017-03-03 17:38:52  \n",
              "2    2017-03-14 4:23:56  \n",
              "3   2017-03-26 12:43:37  \n",
              "4    2017-03-01 4:35:11  \n",
              "5   2017-03-14 15:25:01  \n",
              "6   2017-03-01 21:37:57  \n",
              "7    2017-03-08 2:05:38  \n",
              "8   2017-03-17 20:56:50  \n",
              "9   2017-03-30 21:08:26  \n",
              "10  2017-03-26 23:36:40  \n",
              "11  2017-03-12 17:58:30  \n",
              "12  2017-03-16 14:15:34  \n",
              "13   2017-03-22 2:39:49  \n",
              "14  2017-03-10 11:23:18  \n",
              "15   2017-03-07 4:00:00  \n",
              "16   2017-03-21 4:23:38  \n",
              "17  2017-03-21 12:09:07  \n",
              "18  2017-03-17 13:18:47  \n",
              "19  2017-03-29 15:11:52  \n",
              "20  2017-03-30 20:11:59  \n",
              "21  2017-03-04 15:44:00  \n",
              "22   2017-03-22 1:19:41  \n",
              "23   2017-03-12 3:07:42  \n",
              "24  2017-03-03 13:01:03  "
            ],
            "text/html": [
              "\n",
              "  <div id=\"df-d49d79dc-fab7-42be-aa58-a9905cc10d23\">\n",
              "    <div class=\"colab-df-container\">\n",
              "      <div>\n",
              "<style scoped>\n",
              "    .dataframe tbody tr th:only-of-type {\n",
              "        vertical-align: middle;\n",
              "    }\n",
              "\n",
              "    .dataframe tbody tr th {\n",
              "        vertical-align: top;\n",
              "    }\n",
              "\n",
              "    .dataframe thead th {\n",
              "        text-align: right;\n",
              "    }\n",
              "</style>\n",
              "<table border=\"1\" class=\"dataframe\">\n",
              "  <thead>\n",
              "    <tr style=\"text-align: right;\">\n",
              "      <th></th>\n",
              "      <th>order_id</th>\n",
              "      <th>shop_id</th>\n",
              "      <th>user_id</th>\n",
              "      <th>order_amount</th>\n",
              "      <th>total_items</th>\n",
              "      <th>payment_method</th>\n",
              "      <th>created_at</th>\n",
              "    </tr>\n",
              "  </thead>\n",
              "  <tbody>\n",
              "    <tr>\n",
              "      <th>0</th>\n",
              "      <td>1</td>\n",
              "      <td>53</td>\n",
              "      <td>746</td>\n",
              "      <td>224</td>\n",
              "      <td>2</td>\n",
              "      <td>cash</td>\n",
              "      <td>2017-03-13 12:36:56</td>\n",
              "    </tr>\n",
              "    <tr>\n",
              "      <th>1</th>\n",
              "      <td>2</td>\n",
              "      <td>92</td>\n",
              "      <td>925</td>\n",
              "      <td>90</td>\n",
              "      <td>1</td>\n",
              "      <td>cash</td>\n",
              "      <td>2017-03-03 17:38:52</td>\n",
              "    </tr>\n",
              "    <tr>\n",
              "      <th>2</th>\n",
              "      <td>3</td>\n",
              "      <td>44</td>\n",
              "      <td>861</td>\n",
              "      <td>144</td>\n",
              "      <td>1</td>\n",
              "      <td>cash</td>\n",
              "      <td>2017-03-14 4:23:56</td>\n",
              "    </tr>\n",
              "    <tr>\n",
              "      <th>3</th>\n",
              "      <td>4</td>\n",
              "      <td>18</td>\n",
              "      <td>935</td>\n",
              "      <td>156</td>\n",
              "      <td>1</td>\n",
              "      <td>credit_card</td>\n",
              "      <td>2017-03-26 12:43:37</td>\n",
              "    </tr>\n",
              "    <tr>\n",
              "      <th>4</th>\n",
              "      <td>5</td>\n",
              "      <td>18</td>\n",
              "      <td>883</td>\n",
              "      <td>156</td>\n",
              "      <td>1</td>\n",
              "      <td>credit_card</td>\n",
              "      <td>2017-03-01 4:35:11</td>\n",
              "    </tr>\n",
              "    <tr>\n",
              "      <th>5</th>\n",
              "      <td>6</td>\n",
              "      <td>58</td>\n",
              "      <td>882</td>\n",
              "      <td>138</td>\n",
              "      <td>1</td>\n",
              "      <td>credit_card</td>\n",
              "      <td>2017-03-14 15:25:01</td>\n",
              "    </tr>\n",
              "    <tr>\n",
              "      <th>6</th>\n",
              "      <td>7</td>\n",
              "      <td>87</td>\n",
              "      <td>915</td>\n",
              "      <td>149</td>\n",
              "      <td>1</td>\n",
              "      <td>cash</td>\n",
              "      <td>2017-03-01 21:37:57</td>\n",
              "    </tr>\n",
              "    <tr>\n",
              "      <th>7</th>\n",
              "      <td>8</td>\n",
              "      <td>22</td>\n",
              "      <td>761</td>\n",
              "      <td>292</td>\n",
              "      <td>2</td>\n",
              "      <td>cash</td>\n",
              "      <td>2017-03-08 2:05:38</td>\n",
              "    </tr>\n",
              "    <tr>\n",
              "      <th>8</th>\n",
              "      <td>9</td>\n",
              "      <td>64</td>\n",
              "      <td>914</td>\n",
              "      <td>266</td>\n",
              "      <td>2</td>\n",
              "      <td>debit</td>\n",
              "      <td>2017-03-17 20:56:50</td>\n",
              "    </tr>\n",
              "    <tr>\n",
              "      <th>9</th>\n",
              "      <td>10</td>\n",
              "      <td>52</td>\n",
              "      <td>788</td>\n",
              "      <td>146</td>\n",
              "      <td>1</td>\n",
              "      <td>credit_card</td>\n",
              "      <td>2017-03-30 21:08:26</td>\n",
              "    </tr>\n",
              "    <tr>\n",
              "      <th>10</th>\n",
              "      <td>11</td>\n",
              "      <td>66</td>\n",
              "      <td>848</td>\n",
              "      <td>322</td>\n",
              "      <td>2</td>\n",
              "      <td>credit_card</td>\n",
              "      <td>2017-03-26 23:36:40</td>\n",
              "    </tr>\n",
              "    <tr>\n",
              "      <th>11</th>\n",
              "      <td>12</td>\n",
              "      <td>40</td>\n",
              "      <td>983</td>\n",
              "      <td>322</td>\n",
              "      <td>2</td>\n",
              "      <td>debit</td>\n",
              "      <td>2017-03-12 17:58:30</td>\n",
              "    </tr>\n",
              "    <tr>\n",
              "      <th>12</th>\n",
              "      <td>13</td>\n",
              "      <td>54</td>\n",
              "      <td>799</td>\n",
              "      <td>266</td>\n",
              "      <td>2</td>\n",
              "      <td>credit_card</td>\n",
              "      <td>2017-03-16 14:15:34</td>\n",
              "    </tr>\n",
              "    <tr>\n",
              "      <th>13</th>\n",
              "      <td>14</td>\n",
              "      <td>100</td>\n",
              "      <td>709</td>\n",
              "      <td>111</td>\n",
              "      <td>1</td>\n",
              "      <td>cash</td>\n",
              "      <td>2017-03-22 2:39:49</td>\n",
              "    </tr>\n",
              "    <tr>\n",
              "      <th>14</th>\n",
              "      <td>15</td>\n",
              "      <td>87</td>\n",
              "      <td>849</td>\n",
              "      <td>447</td>\n",
              "      <td>3</td>\n",
              "      <td>credit_card</td>\n",
              "      <td>2017-03-10 11:23:18</td>\n",
              "    </tr>\n",
              "    <tr>\n",
              "      <th>15</th>\n",
              "      <td>16</td>\n",
              "      <td>42</td>\n",
              "      <td>607</td>\n",
              "      <td>704000</td>\n",
              "      <td>2000</td>\n",
              "      <td>credit_card</td>\n",
              "      <td>2017-03-07 4:00:00</td>\n",
              "    </tr>\n",
              "    <tr>\n",
              "      <th>16</th>\n",
              "      <td>17</td>\n",
              "      <td>17</td>\n",
              "      <td>731</td>\n",
              "      <td>176</td>\n",
              "      <td>1</td>\n",
              "      <td>cash</td>\n",
              "      <td>2017-03-21 4:23:38</td>\n",
              "    </tr>\n",
              "    <tr>\n",
              "      <th>17</th>\n",
              "      <td>18</td>\n",
              "      <td>28</td>\n",
              "      <td>752</td>\n",
              "      <td>164</td>\n",
              "      <td>1</td>\n",
              "      <td>credit_card</td>\n",
              "      <td>2017-03-21 12:09:07</td>\n",
              "    </tr>\n",
              "    <tr>\n",
              "      <th>18</th>\n",
              "      <td>19</td>\n",
              "      <td>83</td>\n",
              "      <td>761</td>\n",
              "      <td>258</td>\n",
              "      <td>2</td>\n",
              "      <td>cash</td>\n",
              "      <td>2017-03-17 13:18:47</td>\n",
              "    </tr>\n",
              "    <tr>\n",
              "      <th>19</th>\n",
              "      <td>20</td>\n",
              "      <td>63</td>\n",
              "      <td>898</td>\n",
              "      <td>408</td>\n",
              "      <td>3</td>\n",
              "      <td>credit_card</td>\n",
              "      <td>2017-03-29 15:11:52</td>\n",
              "    </tr>\n",
              "    <tr>\n",
              "      <th>20</th>\n",
              "      <td>21</td>\n",
              "      <td>66</td>\n",
              "      <td>987</td>\n",
              "      <td>322</td>\n",
              "      <td>2</td>\n",
              "      <td>cash</td>\n",
              "      <td>2017-03-30 20:11:59</td>\n",
              "    </tr>\n",
              "    <tr>\n",
              "      <th>21</th>\n",
              "      <td>22</td>\n",
              "      <td>97</td>\n",
              "      <td>789</td>\n",
              "      <td>486</td>\n",
              "      <td>3</td>\n",
              "      <td>credit_card</td>\n",
              "      <td>2017-03-04 15:44:00</td>\n",
              "    </tr>\n",
              "    <tr>\n",
              "      <th>22</th>\n",
              "      <td>23</td>\n",
              "      <td>88</td>\n",
              "      <td>985</td>\n",
              "      <td>704</td>\n",
              "      <td>4</td>\n",
              "      <td>credit_card</td>\n",
              "      <td>2017-03-22 1:19:41</td>\n",
              "    </tr>\n",
              "    <tr>\n",
              "      <th>23</th>\n",
              "      <td>24</td>\n",
              "      <td>75</td>\n",
              "      <td>964</td>\n",
              "      <td>256</td>\n",
              "      <td>2</td>\n",
              "      <td>credit_card</td>\n",
              "      <td>2017-03-12 3:07:42</td>\n",
              "    </tr>\n",
              "    <tr>\n",
              "      <th>24</th>\n",
              "      <td>25</td>\n",
              "      <td>73</td>\n",
              "      <td>917</td>\n",
              "      <td>495</td>\n",
              "      <td>3</td>\n",
              "      <td>cash</td>\n",
              "      <td>2017-03-03 13:01:03</td>\n",
              "    </tr>\n",
              "  </tbody>\n",
              "</table>\n",
              "</div>\n",
              "      <button class=\"colab-df-convert\" onclick=\"convertToInteractive('df-d49d79dc-fab7-42be-aa58-a9905cc10d23')\"\n",
              "              title=\"Convert this dataframe to an interactive table.\"\n",
              "              style=\"display:none;\">\n",
              "        \n",
              "  <svg xmlns=\"http://www.w3.org/2000/svg\" height=\"24px\"viewBox=\"0 0 24 24\"\n",
              "       width=\"24px\">\n",
              "    <path d=\"M0 0h24v24H0V0z\" fill=\"none\"/>\n",
              "    <path d=\"M18.56 5.44l.94 2.06.94-2.06 2.06-.94-2.06-.94-.94-2.06-.94 2.06-2.06.94zm-11 1L8.5 8.5l.94-2.06 2.06-.94-2.06-.94L8.5 2.5l-.94 2.06-2.06.94zm10 10l.94 2.06.94-2.06 2.06-.94-2.06-.94-.94-2.06-.94 2.06-2.06.94z\"/><path d=\"M17.41 7.96l-1.37-1.37c-.4-.4-.92-.59-1.43-.59-.52 0-1.04.2-1.43.59L10.3 9.45l-7.72 7.72c-.78.78-.78 2.05 0 2.83L4 21.41c.39.39.9.59 1.41.59.51 0 1.02-.2 1.41-.59l7.78-7.78 2.81-2.81c.8-.78.8-2.07 0-2.86zM5.41 20L4 18.59l7.72-7.72 1.47 1.35L5.41 20z\"/>\n",
              "  </svg>\n",
              "      </button>\n",
              "      \n",
              "  <style>\n",
              "    .colab-df-container {\n",
              "      display:flex;\n",
              "      flex-wrap:wrap;\n",
              "      gap: 12px;\n",
              "    }\n",
              "\n",
              "    .colab-df-convert {\n",
              "      background-color: #E8F0FE;\n",
              "      border: none;\n",
              "      border-radius: 50%;\n",
              "      cursor: pointer;\n",
              "      display: none;\n",
              "      fill: #1967D2;\n",
              "      height: 32px;\n",
              "      padding: 0 0 0 0;\n",
              "      width: 32px;\n",
              "    }\n",
              "\n",
              "    .colab-df-convert:hover {\n",
              "      background-color: #E2EBFA;\n",
              "      box-shadow: 0px 1px 2px rgba(60, 64, 67, 0.3), 0px 1px 3px 1px rgba(60, 64, 67, 0.15);\n",
              "      fill: #174EA6;\n",
              "    }\n",
              "\n",
              "    [theme=dark] .colab-df-convert {\n",
              "      background-color: #3B4455;\n",
              "      fill: #D2E3FC;\n",
              "    }\n",
              "\n",
              "    [theme=dark] .colab-df-convert:hover {\n",
              "      background-color: #434B5C;\n",
              "      box-shadow: 0px 1px 3px 1px rgba(0, 0, 0, 0.15);\n",
              "      filter: drop-shadow(0px 1px 2px rgba(0, 0, 0, 0.3));\n",
              "      fill: #FFFFFF;\n",
              "    }\n",
              "  </style>\n",
              "\n",
              "      <script>\n",
              "        const buttonEl =\n",
              "          document.querySelector('#df-d49d79dc-fab7-42be-aa58-a9905cc10d23 button.colab-df-convert');\n",
              "        buttonEl.style.display =\n",
              "          google.colab.kernel.accessAllowed ? 'block' : 'none';\n",
              "\n",
              "        async function convertToInteractive(key) {\n",
              "          const element = document.querySelector('#df-d49d79dc-fab7-42be-aa58-a9905cc10d23');\n",
              "          const dataTable =\n",
              "            await google.colab.kernel.invokeFunction('convertToInteractive',\n",
              "                                                     [key], {});\n",
              "          if (!dataTable) return;\n",
              "\n",
              "          const docLinkHtml = 'Like what you see? Visit the ' +\n",
              "            '<a target=\"_blank\" href=https://colab.research.google.com/notebooks/data_table.ipynb>data table notebook</a>'\n",
              "            + ' to learn more about interactive tables.';\n",
              "          element.innerHTML = '';\n",
              "          dataTable['output_type'] = 'display_data';\n",
              "          await google.colab.output.renderOutput(dataTable, element);\n",
              "          const docLink = document.createElement('div');\n",
              "          docLink.innerHTML = docLinkHtml;\n",
              "          element.appendChild(docLink);\n",
              "        }\n",
              "      </script>\n",
              "    </div>\n",
              "  </div>\n",
              "  "
            ]
          },
          "metadata": {},
          "execution_count": 4
        }
      ],
      "source": [
        "import pandas as pd\n",
        "\n",
        "df = pd.read_csv('challenge.csv')\n",
        "df.head(25)"
      ]
    },
    {
      "cell_type": "code",
      "source": [
        "df['order_amount'].describe()"
      ],
      "metadata": {
        "colab": {
          "base_uri": "https://localhost:8080/"
        },
        "id": "4qtf4FddzWlc",
        "outputId": "52108bf7-1acc-4155-a037-6f906595ebed"
      },
      "execution_count": 5,
      "outputs": [
        {
          "output_type": "execute_result",
          "data": {
            "text/plain": [
              "count      5000.000000\n",
              "mean       3145.128000\n",
              "std       41282.539349\n",
              "min          90.000000\n",
              "25%         163.000000\n",
              "50%         284.000000\n",
              "75%         390.000000\n",
              "max      704000.000000\n",
              "Name: order_amount, dtype: float64"
            ]
          },
          "metadata": {},
          "execution_count": 5
        }
      ]
    },
    {
      "cell_type": "markdown",
      "source": [
        "A. Think about what could be going wrong with our calculation. Think about a better way to evaluate this data. "
      ],
      "metadata": {
        "id": "BD6uCfFH3CyZ"
      }
    },
    {
      "cell_type": "markdown",
      "source": [
        "As the mean and standard deviation for this data are so huge, we can conclude that data are more spread out. As a result, the mean is a poor estimate of AOV.\n",
        "Using the median as the AOV is a better way to examine the data as it is a central number and is not affected by the outliers in contrast with the mean value."
      ],
      "metadata": {
        "id": "ARLsODa7F9KI"
      }
    },
    {
      "cell_type": "markdown",
      "source": [
        "B. What metric would you report for this dataset?"
      ],
      "metadata": {
        "id": "p3uBQCC53KH_"
      }
    },
    {
      "cell_type": "markdown",
      "source": [
        "For this dataset, the median would be a better metric to report."
      ],
      "metadata": {
        "id": "l71EgDytCwhy"
      }
    },
    {
      "cell_type": "markdown",
      "source": [
        "C. What is its value?"
      ],
      "metadata": {
        "id": "YI0SCaxa3NcN"
      }
    },
    {
      "cell_type": "code",
      "source": [
        "df['order_amount'].median()"
      ],
      "metadata": {
        "colab": {
          "base_uri": "https://localhost:8080/"
        },
        "id": "cX4m12wX3Q7w",
        "outputId": "74fe3d3e-3e17-41d8-bcdd-1304baf1a8ce"
      },
      "execution_count": 6,
      "outputs": [
        {
          "output_type": "execute_result",
          "data": {
            "text/plain": [
              "284.0"
            ]
          },
          "metadata": {},
          "execution_count": 6
        }
      ]
    },
    {
      "cell_type": "markdown",
      "source": [
        "The better value to report as AOV is the median of order_amount which its value is $284."
      ],
      "metadata": {
        "id": "r3cTA-Ne3dJ3"
      }
    },
    {
      "cell_type": "markdown",
      "source": [
        "# Question 2\n",
        "\n",
        "For this question you’ll need to use SQL. [Follow this link](https://www.w3schools.com/SQL/TRYSQL.ASP?FILENAME=TRYSQL_SELECT_ALL) to access the data set required for the challenge. Please use queries to answer the following questions. Paste your queries along with your final numerical answers below."
      ],
      "metadata": {
        "id": "QiT4qPeT30Bt"
      }
    },
    {
      "cell_type": "markdown",
      "source": [
        "A. How many orders were shipped by Speedy Express in total?"
      ],
      "metadata": {
        "id": "fQ_ETIPN4RG7"
      }
    },
    {
      "cell_type": "markdown",
      "source": [
        "SELECT COUNT(*) FROM Orders\n",
        "\n",
        "JOIN Shippers ON Shippers.ShipperID = Orders.ShipperID\n",
        "\n",
        "WHERE Shippers.ShipperName = 'Speedy Express';\n",
        "\n",
        "After joining two tables of orders and shippers, we can reach the number of orders Speedy Express has shipped, which is 54."
      ],
      "metadata": {
        "id": "IUscomYs5do0"
      }
    },
    {
      "cell_type": "markdown",
      "source": [
        "B. What is the last name of the employee with the most orders?"
      ],
      "metadata": {
        "id": "UfhtuWHd4Wgy"
      }
    },
    {
      "cell_type": "markdown",
      "source": [
        "SELECT Employees.LastName, Count() AS TotalOrders FROM Orders\n",
        "\n",
        "JOIN Employees ON Orders.EmployeeID = Employees.EmployeeID\n",
        "\n",
        "GROUP BY Employees.LastName ORDER BY TotalOrders DESC\n",
        "\n",
        "Limit 1;\n",
        "\n",
        "\n",
        "<img src='https://drive.google.com/uc?id=1TCpMZdZgYrv5tz-L6tgn_aguASn4YEYH'>\n",
        "\n",
        "\n",
        "By joining two tables of orders and employees, and then grouping by the employee last name, we can figure out that Peacock is the employee who has the most orders (40 orders).\n"
      ],
      "metadata": {
        "id": "YH4caqY66naL"
      }
    },
    {
      "cell_type": "markdown",
      "source": [
        "C. What product was ordered the most by customers in Germany?"
      ],
      "metadata": {
        "id": "W3jPIKEQ4YAF"
      }
    },
    {
      "cell_type": "markdown",
      "source": [
        "JOIN OrderDetails ON Orders.OrderID = OrderDetails.OrderID\n",
        "\n",
        "JOIN Customers ON Orders.CustomerID = Customers.CustomerID\n",
        "\n",
        "JOIN Products ON OrderDetails.ProductID = Products.ProductID\n",
        "\n",
        "WHERE Country = 'Germany'\n",
        "\n",
        "GROUP BY Products.ProductName ORDER BY TotalOrdered DESC\n",
        "\n",
        "Limit 1;\n",
        "\n",
        "<img src='https://drive.google.com/uc?id=1d27mIDOv8OKFUXisxVQ3I8Eg94y_K1YH'>\n",
        "\n",
        "\n",
        "By joining tables of order, orderdetails, customer, and product and sum the order quantities for products ordered by Germany, we can figure out that Boston Crab Meat is  the most popular item (with 160 orders)."
      ],
      "metadata": {
        "id": "r4HDbfrb_hE0"
      }
    }
  ]
}